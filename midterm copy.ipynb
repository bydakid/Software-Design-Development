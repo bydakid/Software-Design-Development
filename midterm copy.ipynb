{
 "cells": [
  {
   "cell_type": "markdown",
   "id": "f63bceb8",
   "metadata": {
    "tags": []
   },
   "source": [
    "# Analysis of the zika virus"
   ]
  },
  {
   "cell_type": "markdown",
   "id": "273a6424",
   "metadata": {},
   "source": [
    "### Project Proposal"
   ]
  },
  {
   "cell_type": "markdown",
   "id": "921c32aa",
   "metadata": {
    "tags": []
   },
   "source": [
    "# 1) Intro and Objectives"
   ]
  },
  {
   "cell_type": "markdown",
   "id": "8b13e6fc",
   "metadata": {},
   "source": [
    "## 1.1 Introduction\n",
    "For my assignment, I've decided to delve into the fascinating world of the Zika virus. This virus poses a significant public health concern, which has led to extensive efforts in gathering and disseminating information about its transmission and impact on different regions. Through my analysis, I aim to broader understande of the Zika virus by carefully examining data from reputable organizations like the European Centre for Disease Prevention and Control (ECDC) and the World Health Organization (WHO).\n",
    "\n",
    "There are a couple of reasons why I've chosen to embark on this in-depth exploration. Firstly, I hope to uncover intriguing details about the virus's spread across different geographical areas. By studying its movement from place to place, we can gain a better understanding of how it spreads. Secondly, by closely examining the areas that have been affected, we can grasp the extent of the virus's reach and its implications for the people living in those regions."
   ]
  },
  {
   "cell_type": "markdown",
   "id": "c666d683",
   "metadata": {},
   "source": [
    "## 1.2 Objectives\n",
    "Within this project, I would like to explore the following:\n",
    "- Country Transmission\n",
    "    - Analyze the transmission of the Zika virus in different countries\n",
    "    - Investigate the categorization of countries based on transmission risk by the World Health Organization (WHO)\n",
    "- Brazil\n",
    "    - Focus on Brazil and analyze the data related to the Zika virus.\n",
    "    - Explore the number of Zika virus cases reported in Brazil.\n",
    "\n",
    "\n",
    "For this project proposal, my goals are to:\n",
    "1. Determine Data Requirements: I will assess the amount of data needed to effectively address the research questions and project goals. It's important to consider factors such as data availability, time constraints, and available resources to ensure a feasible and comprehensive analysis.\n",
    "2. Data Collection: Employ web scraping techniques to collect the necessary data.\n",
    "3. Data Cleaning: Perform data cleaning and transformation procedures to prepare the collected data for analysis.\n",
    "4. Explore Data: Conduct exploratory data analysis to gain initial insights into the collected data.\n",
    "5. Identify Key Findings: Summarize and interpret the key findings derived from the analysis. "
   ]
  },
  {
   "cell_type": "markdown",
   "id": "535fbd75",
   "metadata": {
    "jp-MarkdownHeadingCollapsed": true,
    "tags": []
   },
   "source": [
    "## 1.3 Data\n",
    "#### 1.3.1 Data requirements\n",
    "To analyze ziku virus infections in various countries, including Brazil, I would need the following types of data:\n",
    "- ECDC Local Transmission Countries Data: Information about the countries current WHO categories and most affected area in that exact country\n",
    "- Brazil Transmission Data: Information about the total reported cases in each state of Brazil\n",
    "#### 1.3.2 Choice of data\n",
    "I have chosen to use CSV files from BuzzFeed News' GitHub repository. These CSV files contain relevant data that I need for my research objectives. CSV format provides a structured and organized way to work with the data.\n",
    "- https://github.com/BuzzFeedNews/zika-data\n",
    "\n",
    "#### 1.3.3 Limitations and constraints of the data\n",
    "- Data Availability : It might be hard to find the proper data\n",
    "- Data Accuracy : Data quality issues can arise, such as missing or incomplete records, inconsistencies, or errors in the data.\n"
   ]
  },
  {
   "cell_type": "markdown",
   "id": "f144f7c2",
   "metadata": {},
   "source": [
    "## 1.4 Ethics\n",
    "### 1.4.1 Use of data text\n",
    "- Public available data : The data is already in the public domain. The data is including any relevant author attribution and is publicly accessible.\n",
    "\n",
    "### 1.4.3 Reuseage of data\n",
    "In conducting the analysis of zika virus, considerations for the reuse of data were implemented, including:\n",
    "\n",
    "- Ensuring compliance with data ownership and licensing terms.\n",
    "- Respecting privacy and confidentiality by anonymizing sensitive information.\n",
    "- Obtaining appropriate consent and permissions for data usage.\n",
    "- Following best practices for data sharing and openness.\n",
    "- Providing proper attribution and citation for data sources.\n",
    "- Addressing ethical concerns, such as bias mitigation and harm prevention.\n",
    "\n",
    "These measures aimed to ensure responsible and ethical data reuse, protecting privacy, upholding legal requirements, and promoting trust in the analysis.\n",
    "\n",
    "### 1.4.1 Potential impacts of using data for the proposes analyses\n",
    "The use of data for the proposed analyses in zika virus can have negative impacts:\n",
    "\n",
    "- Privacy concerns if personal data is not properly anonymized or protected.\n",
    "- Potential for biased analysis leading to inequitable outcomes.\n",
    "- Dependence on data accuracy and quality, which may vary across sources.\n",
    "- Risk of misinterpretation or misrepresentation of data leading to flawed conclusions."
   ]
  },
  {
   "cell_type": "markdown",
   "id": "97ab1b71",
   "metadata": {
    "tags": []
   },
   "source": [
    "# 2) Data Collection"
   ]
  },
  {
   "cell_type": "markdown",
   "id": "4cbb3781-f937-494b-97e8-a60d3832858e",
   "metadata": {},
   "source": [
    "## 2.1 Getting the data csv file\n",
    "To collect the data CSV files for my Zika virus analysis, I followed a simple process:\n",
    "\n",
    "- I started by downloading the entire folder of BuzzFeedNews related to the topic of zikavirus from GitHub. This folder contained various files and data related to the Zika virus.\n",
    "- Once I had the folder on my computer, I went through its contents to locate the specific data CSV files that I needed for my project.\n",
    "- I simply moved the data CSV files from the downloaded BuzzFeedNews folder into my midterm folder with my midterm directory."
   ]
  },
  {
   "cell_type": "markdown",
   "id": "64a5afa3-0f28-4495-b475-38fa8c9c5993",
   "metadata": {
    "tags": []
   },
   "source": [
    "## 2.2 Import csv files\n",
    "I imported two CSV files: \"brazil.csv\" and \"world.csv\". To make them easier to work with and understand, I assigned them the variable names \"bra\" and \"wor\" respectively.\n",
    "\n",
    "By assigning meaningful variable names to the imported CSV files, I made it simpler to access and manipulate the data throughout my project. This approach helps ensure clarity and enhances readability"
   ]
  },
  {
   "cell_type": "code",
   "execution_count": 92,
   "id": "00008943",
   "metadata": {},
   "outputs": [],
   "source": [
    "# Import libraries\n",
    "import pandas as pd\n",
    "import matplotlib.pyplot as plt\n",
    "bra = pd.read_csv('brazil.csv')\n",
    "wor = pd.read_csv('world.csv')"
   ]
  },
  {
   "cell_type": "markdown",
   "id": "9fa22c25-659b-40d4-89af-21a12ea6ba3b",
   "metadata": {
    "tags": []
   },
   "source": [
    "## 2.3 Test imported csv files head()\n",
    "In order to verify that the imported CSV files, represented by the variables \"bra\" and \"wor,\" were functioning correctly and displaying the expected data, I conducted a simple test.\n",
    "\n",
    "To perform this test, I used the head() function in Python, which allows me to view the first few rows of the DataFrame."
   ]
  },
  {
   "cell_type": "code",
   "execution_count": 93,
   "id": "9bf6071b-c27d-4a6e-b963-b4ecca38b441",
   "metadata": {},
   "outputs": [
    {
     "data": {
      "text/html": [
       "<div>\n",
       "<style scoped>\n",
       "    .dataframe tbody tr th:only-of-type {\n",
       "        vertical-align: middle;\n",
       "    }\n",
       "\n",
       "    .dataframe tbody tr th {\n",
       "        vertical-align: top;\n",
       "    }\n",
       "\n",
       "    .dataframe thead th {\n",
       "        text-align: right;\n",
       "    }\n",
       "</style>\n",
       "<table border=\"1\" class=\"dataframe\">\n",
       "  <thead>\n",
       "    <tr style=\"text-align: right;\">\n",
       "      <th></th>\n",
       "      <th>no</th>\n",
       "      <th>state</th>\n",
       "      <th>cases_under_investigation</th>\n",
       "      <th>cases_confirmed</th>\n",
       "      <th>cases_discarded</th>\n",
       "      <th>cases_reported_total</th>\n",
       "    </tr>\n",
       "  </thead>\n",
       "  <tbody>\n",
       "    <tr>\n",
       "      <th>0</th>\n",
       "      <td>1</td>\n",
       "      <td>Alagoas</td>\n",
       "      <td>158</td>\n",
       "      <td>0</td>\n",
       "      <td>0</td>\n",
       "      <td>158</td>\n",
       "    </tr>\n",
       "    <tr>\n",
       "      <th>1</th>\n",
       "      <td>2</td>\n",
       "      <td>Bahia</td>\n",
       "      <td>471</td>\n",
       "      <td>35</td>\n",
       "      <td>27</td>\n",
       "      <td>533</td>\n",
       "    </tr>\n",
       "    <tr>\n",
       "      <th>2</th>\n",
       "      <td>3</td>\n",
       "      <td>Ceará</td>\n",
       "      <td>218</td>\n",
       "      <td>4</td>\n",
       "      <td>7</td>\n",
       "      <td>229</td>\n",
       "    </tr>\n",
       "    <tr>\n",
       "      <th>3</th>\n",
       "      <td>4</td>\n",
       "      <td>Maranhão</td>\n",
       "      <td>119</td>\n",
       "      <td>0</td>\n",
       "      <td>15</td>\n",
       "      <td>134</td>\n",
       "    </tr>\n",
       "    <tr>\n",
       "      <th>4</th>\n",
       "      <td>5</td>\n",
       "      <td>Paraíba</td>\n",
       "      <td>497</td>\n",
       "      <td>31</td>\n",
       "      <td>181</td>\n",
       "      <td>709</td>\n",
       "    </tr>\n",
       "  </tbody>\n",
       "</table>\n",
       "</div>"
      ],
      "text/plain": [
       "   no     state cases_under_investigation cases_confirmed cases_discarded  \\\n",
       "0   1   Alagoas                       158               0               0   \n",
       "1   2     Bahia                       471              35              27   \n",
       "2   3     Ceará                       218               4               7   \n",
       "3   4  Maranhão                       119               0              15   \n",
       "4   5   Paraíba                       497              31             181   \n",
       "\n",
       "  cases_reported_total  \n",
       "0                  158  \n",
       "1                  533  \n",
       "2                  229  \n",
       "3                  134  \n",
       "4                  709  "
      ]
     },
     "execution_count": 93,
     "metadata": {},
     "output_type": "execute_result"
    }
   ],
   "source": [
    "bra.head()"
   ]
  },
  {
   "cell_type": "code",
   "execution_count": 94,
   "id": "6fee146c-092c-46e9-9ccc-b0183202c359",
   "metadata": {},
   "outputs": [
    {
     "data": {
      "text/html": [
       "<div>\n",
       "<style scoped>\n",
       "    .dataframe tbody tr th:only-of-type {\n",
       "        vertical-align: middle;\n",
       "    }\n",
       "\n",
       "    .dataframe tbody tr th {\n",
       "        vertical-align: top;\n",
       "    }\n",
       "\n",
       "    .dataframe thead th {\n",
       "        text-align: right;\n",
       "    }\n",
       "</style>\n",
       "<table border=\"1\" class=\"dataframe\">\n",
       "  <thead>\n",
       "    <tr style=\"text-align: right;\">\n",
       "      <th></th>\n",
       "      <th>country</th>\n",
       "      <th>areas</th>\n",
       "      <th>current_zika_transmission</th>\n",
       "    </tr>\n",
       "  </thead>\n",
       "  <tbody>\n",
       "    <tr>\n",
       "      <th>0</th>\n",
       "      <td>American Samoa</td>\n",
       "      <td>NaN</td>\n",
       "      <td>Areas with interrupted transmission (WHO cat. 3)</td>\n",
       "    </tr>\n",
       "    <tr>\n",
       "      <th>1</th>\n",
       "      <td>Angola</td>\n",
       "      <td>NaN</td>\n",
       "      <td>Areas with virus transmission following virus ...</td>\n",
       "    </tr>\n",
       "    <tr>\n",
       "      <th>2</th>\n",
       "      <td>Anguilla</td>\n",
       "      <td>NaN</td>\n",
       "      <td>Areas with virus transmission following virus ...</td>\n",
       "    </tr>\n",
       "    <tr>\n",
       "      <th>3</th>\n",
       "      <td>Antigua and Barbuda</td>\n",
       "      <td>Areas with virus transmission following virus ...</td>\n",
       "      <td>NaN</td>\n",
       "    </tr>\n",
       "    <tr>\n",
       "      <th>4</th>\n",
       "      <td>Argentina</td>\n",
       "      <td>Argentina</td>\n",
       "      <td>Areas with virus transmission following virus ...</td>\n",
       "    </tr>\n",
       "  </tbody>\n",
       "</table>\n",
       "</div>"
      ],
      "text/plain": [
       "               country                                              areas  \\\n",
       "0       American Samoa                                                NaN   \n",
       "1               Angola                                                NaN   \n",
       "2             Anguilla                                                NaN   \n",
       "3  Antigua and Barbuda  Areas with virus transmission following virus ...   \n",
       "4            Argentina                                          Argentina   \n",
       "\n",
       "                           current_zika_transmission  \n",
       "0   Areas with interrupted transmission (WHO cat. 3)  \n",
       "1  Areas with virus transmission following virus ...  \n",
       "2  Areas with virus transmission following virus ...  \n",
       "3                                                NaN  \n",
       "4  Areas with virus transmission following virus ...  "
      ]
     },
     "execution_count": 94,
     "metadata": {},
     "output_type": "execute_result"
    }
   ],
   "source": [
    "wor.head()"
   ]
  },
  {
   "cell_type": "markdown",
   "id": "dbe33534-9d6e-459f-a11f-039e356315fc",
   "metadata": {},
   "source": [
    "By conducting this test, I ensured that the imported CSV files were successfully loaded into the variables \"bra\" and \"wor,\" and that the data within them was accessible for further analysis. This step allowed me to confirm that the data was properly imported and ready for exploration."
   ]
  },
  {
   "cell_type": "markdown",
   "id": "13be4a6a",
   "metadata": {
    "tags": []
   },
   "source": [
    "# 3) Data Cleaning"
   ]
  },
  {
   "cell_type": "markdown",
   "id": "d6c448c2-03d1-4cd6-9827-e3259c87d980",
   "metadata": {
    "tags": []
   },
   "source": [
    "## 3.1 Remove Columns\n",
    "I decided to remove three irrelevant columns from the Brazil dataset to create a more focused and clear dataset for my analysis. By eliminating these unnecessary columns, I can avoid confusion and stay focused on the essential variables that are directly relevant to my research objectives. This streamlined approach ensures that I work with the most meaningful data to derive valuable insights from the Brazil dataset."
   ]
  },
  {
   "cell_type": "code",
   "execution_count": 95,
   "id": "574568ec-d3a5-4705-b312-f6739a1b62ab",
   "metadata": {},
   "outputs": [],
   "source": [
    "bra = bra.drop(['no'], axis=1)"
   ]
  },
  {
   "cell_type": "code",
   "execution_count": 96,
   "id": "aa330ec7-53e9-4197-a9ae-facef1f94733",
   "metadata": {},
   "outputs": [],
   "source": [
    "bra = bra.drop(['cases_under_investigation', 'cases_discarded'], axis=1)"
   ]
  },
  {
   "cell_type": "markdown",
   "id": "1b938137-d406-4e1c-8f55-0b394d6c633b",
   "metadata": {},
   "source": [
    "After deleting the column, I checked the header of the data to confirm if the columns were successfully removed. This step was important to ensure that the unwanted columns were effectively eliminated from the dataset"
   ]
  },
  {
   "cell_type": "code",
   "execution_count": 97,
   "id": "1d6cf7f4-9a83-4fd4-999c-80906f70c795",
   "metadata": {},
   "outputs": [
    {
     "data": {
      "text/html": [
       "<div>\n",
       "<style scoped>\n",
       "    .dataframe tbody tr th:only-of-type {\n",
       "        vertical-align: middle;\n",
       "    }\n",
       "\n",
       "    .dataframe tbody tr th {\n",
       "        vertical-align: top;\n",
       "    }\n",
       "\n",
       "    .dataframe thead th {\n",
       "        text-align: right;\n",
       "    }\n",
       "</style>\n",
       "<table border=\"1\" class=\"dataframe\">\n",
       "  <thead>\n",
       "    <tr style=\"text-align: right;\">\n",
       "      <th></th>\n",
       "      <th>state</th>\n",
       "      <th>cases_confirmed</th>\n",
       "      <th>cases_reported_total</th>\n",
       "    </tr>\n",
       "  </thead>\n",
       "  <tbody>\n",
       "    <tr>\n",
       "      <th>0</th>\n",
       "      <td>Alagoas</td>\n",
       "      <td>0</td>\n",
       "      <td>158</td>\n",
       "    </tr>\n",
       "    <tr>\n",
       "      <th>1</th>\n",
       "      <td>Bahia</td>\n",
       "      <td>35</td>\n",
       "      <td>533</td>\n",
       "    </tr>\n",
       "    <tr>\n",
       "      <th>2</th>\n",
       "      <td>Ceará</td>\n",
       "      <td>4</td>\n",
       "      <td>229</td>\n",
       "    </tr>\n",
       "    <tr>\n",
       "      <th>3</th>\n",
       "      <td>Maranhão</td>\n",
       "      <td>0</td>\n",
       "      <td>134</td>\n",
       "    </tr>\n",
       "    <tr>\n",
       "      <th>4</th>\n",
       "      <td>Paraíba</td>\n",
       "      <td>31</td>\n",
       "      <td>709</td>\n",
       "    </tr>\n",
       "  </tbody>\n",
       "</table>\n",
       "</div>"
      ],
      "text/plain": [
       "      state cases_confirmed cases_reported_total\n",
       "0   Alagoas               0                  158\n",
       "1     Bahia              35                  533\n",
       "2     Ceará               4                  229\n",
       "3  Maranhão               0                  134\n",
       "4   Paraíba              31                  709"
      ]
     },
     "execution_count": 97,
     "metadata": {},
     "output_type": "execute_result"
    }
   ],
   "source": [
    "bra.head()"
   ]
  },
  {
   "cell_type": "markdown",
   "id": "21455b3c-34b6-4846-a9a5-0fc1883c3394",
   "metadata": {},
   "source": [
    "From the world dataset, I have made the decision to remove the \"areas\" column because it contains mostly empty values and is not necessary for my analysis."
   ]
  },
  {
   "cell_type": "code",
   "execution_count": 98,
   "id": "28a8c7af-4d11-410e-9314-040b0ea306a6",
   "metadata": {},
   "outputs": [],
   "source": [
    "wor = wor.drop(['areas'], axis=1)"
   ]
  },
  {
   "cell_type": "markdown",
   "id": "ce0e8c96-2769-4a6d-8ecc-71eec7c1609c",
   "metadata": {},
   "source": [
    "After deleting the column, I checked the header of the data to confirm if the columns were successfully removed. This step was important to ensure that the unwanted columns were effectively eliminated from the dataset"
   ]
  },
  {
   "cell_type": "code",
   "execution_count": 99,
   "id": "5b99308b-5624-464e-953e-6293825108f9",
   "metadata": {},
   "outputs": [
    {
     "data": {
      "text/html": [
       "<div>\n",
       "<style scoped>\n",
       "    .dataframe tbody tr th:only-of-type {\n",
       "        vertical-align: middle;\n",
       "    }\n",
       "\n",
       "    .dataframe tbody tr th {\n",
       "        vertical-align: top;\n",
       "    }\n",
       "\n",
       "    .dataframe thead th {\n",
       "        text-align: right;\n",
       "    }\n",
       "</style>\n",
       "<table border=\"1\" class=\"dataframe\">\n",
       "  <thead>\n",
       "    <tr style=\"text-align: right;\">\n",
       "      <th></th>\n",
       "      <th>country</th>\n",
       "      <th>current_zika_transmission</th>\n",
       "    </tr>\n",
       "  </thead>\n",
       "  <tbody>\n",
       "    <tr>\n",
       "      <th>0</th>\n",
       "      <td>American Samoa</td>\n",
       "      <td>Areas with interrupted transmission (WHO cat. 3)</td>\n",
       "    </tr>\n",
       "    <tr>\n",
       "      <th>1</th>\n",
       "      <td>Angola</td>\n",
       "      <td>Areas with virus transmission following virus ...</td>\n",
       "    </tr>\n",
       "    <tr>\n",
       "      <th>2</th>\n",
       "      <td>Anguilla</td>\n",
       "      <td>Areas with virus transmission following virus ...</td>\n",
       "    </tr>\n",
       "    <tr>\n",
       "      <th>3</th>\n",
       "      <td>Antigua and Barbuda</td>\n",
       "      <td>NaN</td>\n",
       "    </tr>\n",
       "    <tr>\n",
       "      <th>4</th>\n",
       "      <td>Argentina</td>\n",
       "      <td>Areas with virus transmission following virus ...</td>\n",
       "    </tr>\n",
       "  </tbody>\n",
       "</table>\n",
       "</div>"
      ],
      "text/plain": [
       "               country                          current_zika_transmission\n",
       "0       American Samoa   Areas with interrupted transmission (WHO cat. 3)\n",
       "1               Angola  Areas with virus transmission following virus ...\n",
       "2             Anguilla  Areas with virus transmission following virus ...\n",
       "3  Antigua and Barbuda                                                NaN\n",
       "4            Argentina  Areas with virus transmission following virus ..."
      ]
     },
     "execution_count": 99,
     "metadata": {},
     "output_type": "execute_result"
    }
   ],
   "source": [
    "wor.head()"
   ]
  },
  {
   "cell_type": "markdown",
   "id": "d2e9c176-35ac-489d-842d-22dc681a2b00",
   "metadata": {
    "tags": []
   },
   "source": [
    "## 3.2 Remove Rows\n",
    "I decided to remove irrelevant rows from the Brazil dataset to create a more focused and clear dataset for my analysis. These rows have the data 'Sem registros', which mean no records in portuges."
   ]
  },
  {
   "cell_type": "code",
   "execution_count": 100,
   "id": "6200360b-6ef0-435a-ac1b-20479d857345",
   "metadata": {},
   "outputs": [],
   "source": [
    "bra = bra[bra.apply(lambda row: 'Sem registros' not in row.values, axis=1)]"
   ]
  },
  {
   "cell_type": "code",
   "execution_count": 101,
   "id": "20252bc6-4ccf-43c9-9d02-f4ee89952be3",
   "metadata": {},
   "outputs": [
    {
     "data": {
      "text/html": [
       "<div>\n",
       "<style scoped>\n",
       "    .dataframe tbody tr th:only-of-type {\n",
       "        vertical-align: middle;\n",
       "    }\n",
       "\n",
       "    .dataframe tbody tr th {\n",
       "        vertical-align: top;\n",
       "    }\n",
       "\n",
       "    .dataframe thead th {\n",
       "        text-align: right;\n",
       "    }\n",
       "</style>\n",
       "<table border=\"1\" class=\"dataframe\">\n",
       "  <thead>\n",
       "    <tr style=\"text-align: right;\">\n",
       "      <th></th>\n",
       "      <th>state</th>\n",
       "      <th>cases_confirmed</th>\n",
       "      <th>cases_reported_total</th>\n",
       "    </tr>\n",
       "  </thead>\n",
       "  <tbody>\n",
       "    <tr>\n",
       "      <th>0</th>\n",
       "      <td>Alagoas</td>\n",
       "      <td>0</td>\n",
       "      <td>158</td>\n",
       "    </tr>\n",
       "    <tr>\n",
       "      <th>1</th>\n",
       "      <td>Bahia</td>\n",
       "      <td>35</td>\n",
       "      <td>533</td>\n",
       "    </tr>\n",
       "    <tr>\n",
       "      <th>2</th>\n",
       "      <td>Ceará</td>\n",
       "      <td>4</td>\n",
       "      <td>229</td>\n",
       "    </tr>\n",
       "    <tr>\n",
       "      <th>3</th>\n",
       "      <td>Maranhão</td>\n",
       "      <td>0</td>\n",
       "      <td>134</td>\n",
       "    </tr>\n",
       "    <tr>\n",
       "      <th>4</th>\n",
       "      <td>Paraíba</td>\n",
       "      <td>31</td>\n",
       "      <td>709</td>\n",
       "    </tr>\n",
       "    <tr>\n",
       "      <th>5</th>\n",
       "      <td>Pernambuco</td>\n",
       "      <td>138</td>\n",
       "      <td>1373</td>\n",
       "    </tr>\n",
       "    <tr>\n",
       "      <th>6</th>\n",
       "      <td>Piauí</td>\n",
       "      <td>0</td>\n",
       "      <td>91</td>\n",
       "    </tr>\n",
       "    <tr>\n",
       "      <th>7</th>\n",
       "      <td>Rio Grande do Norte</td>\n",
       "      <td>60</td>\n",
       "      <td>208</td>\n",
       "    </tr>\n",
       "    <tr>\n",
       "      <th>8</th>\n",
       "      <td>Sergipe</td>\n",
       "      <td>0</td>\n",
       "      <td>172</td>\n",
       "    </tr>\n",
       "    <tr>\n",
       "      <th>9</th>\n",
       "      <td>Espírito Santo</td>\n",
       "      <td>0</td>\n",
       "      <td>52</td>\n",
       "    </tr>\n",
       "    <tr>\n",
       "      <th>10</th>\n",
       "      <td>Minas Gerais</td>\n",
       "      <td>1</td>\n",
       "      <td>48</td>\n",
       "    </tr>\n",
       "    <tr>\n",
       "      <th>11</th>\n",
       "      <td>Rio de Janeiro</td>\n",
       "      <td>0</td>\n",
       "      <td>122</td>\n",
       "    </tr>\n",
       "    <tr>\n",
       "      <th>12</th>\n",
       "      <td>São Paulo</td>\n",
       "      <td>0</td>\n",
       "      <td>18</td>\n",
       "    </tr>\n",
       "    <tr>\n",
       "      <th>16</th>\n",
       "      <td>Pará</td>\n",
       "      <td>0</td>\n",
       "      <td>6</td>\n",
       "    </tr>\n",
       "    <tr>\n",
       "      <th>17</th>\n",
       "      <td>Rondônia</td>\n",
       "      <td>0</td>\n",
       "      <td>1</td>\n",
       "    </tr>\n",
       "    <tr>\n",
       "      <th>18</th>\n",
       "      <td>Roraima</td>\n",
       "      <td>0</td>\n",
       "      <td>5</td>\n",
       "    </tr>\n",
       "    <tr>\n",
       "      <th>19</th>\n",
       "      <td>Tocantins</td>\n",
       "      <td>0</td>\n",
       "      <td>82</td>\n",
       "    </tr>\n",
       "    <tr>\n",
       "      <th>20</th>\n",
       "      <td>Distrito Federal</td>\n",
       "      <td>0</td>\n",
       "      <td>14</td>\n",
       "    </tr>\n",
       "    <tr>\n",
       "      <th>21</th>\n",
       "      <td>Goiás</td>\n",
       "      <td>0</td>\n",
       "      <td>62</td>\n",
       "    </tr>\n",
       "    <tr>\n",
       "      <th>22</th>\n",
       "      <td>Mato Grosso</td>\n",
       "      <td>0</td>\n",
       "      <td>147</td>\n",
       "    </tr>\n",
       "    <tr>\n",
       "      <th>23</th>\n",
       "      <td>Mato Grosso do Sul</td>\n",
       "      <td>0</td>\n",
       "      <td>4</td>\n",
       "    </tr>\n",
       "    <tr>\n",
       "      <th>24</th>\n",
       "      <td>Paraná</td>\n",
       "      <td>0</td>\n",
       "      <td>10</td>\n",
       "    </tr>\n",
       "    <tr>\n",
       "      <th>25</th>\n",
       "      <td>Santa Catarina</td>\n",
       "      <td>0</td>\n",
       "      <td>1</td>\n",
       "    </tr>\n",
       "    <tr>\n",
       "      <th>26</th>\n",
       "      <td>Rio Grande do Sul</td>\n",
       "      <td>1</td>\n",
       "      <td>1</td>\n",
       "    </tr>\n",
       "  </tbody>\n",
       "</table>\n",
       "</div>"
      ],
      "text/plain": [
       "                  state cases_confirmed cases_reported_total\n",
       "0               Alagoas               0                  158\n",
       "1                 Bahia              35                  533\n",
       "2                 Ceará               4                  229\n",
       "3              Maranhão               0                  134\n",
       "4               Paraíba              31                  709\n",
       "5            Pernambuco             138                 1373\n",
       "6                 Piauí               0                   91\n",
       "7   Rio Grande do Norte              60                  208\n",
       "8               Sergipe               0                  172\n",
       "9        Espírito Santo               0                   52\n",
       "10         Minas Gerais               1                   48\n",
       "11       Rio de Janeiro               0                  122\n",
       "12            São Paulo               0                   18\n",
       "16                 Pará               0                    6\n",
       "17             Rondônia               0                    1\n",
       "18              Roraima               0                    5\n",
       "19            Tocantins               0                   82\n",
       "20     Distrito Federal               0                   14\n",
       "21                Goiás               0                   62\n",
       "22          Mato Grosso               0                  147\n",
       "23   Mato Grosso do Sul               0                    4\n",
       "24               Paraná               0                   10\n",
       "25       Santa Catarina               0                    1\n",
       "26    Rio Grande do Sul               1                    1"
      ]
     },
     "execution_count": 101,
     "metadata": {},
     "output_type": "execute_result"
    }
   ],
   "source": [
    "bra"
   ]
  },
  {
   "cell_type": "markdown",
   "id": "e7481e06-ae66-4ece-8330-f5a0fe88fc56",
   "metadata": {
    "tags": []
   },
   "source": [
    "## 3.3 Missing Values"
   ]
  },
  {
   "cell_type": "markdown",
   "id": "f220a688-9720-4cdb-919d-f9194f462e21",
   "metadata": {},
   "source": [
    "To ensure the quality of my Brazil and world datasets, I wanted to check if there were any missing values. To do this, I used the isnull().sum() command, which helped me identify which columns had missing values and how many were missing in each. This way, I could pinpoint the exact columns that required attention and understand the extent of missing data."
   ]
  },
  {
   "cell_type": "markdown",
   "id": "4fc1a99c-9a1b-43a8-bfeb-c7c944e00558",
   "metadata": {
    "tags": []
   },
   "source": [
    "### Brazil"
   ]
  },
  {
   "cell_type": "code",
   "execution_count": 102,
   "id": "d16313a3-06e0-4632-9a86-0cc6a0f48cce",
   "metadata": {},
   "outputs": [
    {
     "data": {
      "text/plain": [
       "state                   0\n",
       "cases_confirmed         0\n",
       "cases_reported_total    0\n",
       "dtype: int64"
      ]
     },
     "execution_count": 102,
     "metadata": {},
     "output_type": "execute_result"
    }
   ],
   "source": [
    "bra.isnull().sum()"
   ]
  },
  {
   "cell_type": "markdown",
   "id": "5aaf23da-52df-4487-b14a-39d2cc5fe3dc",
   "metadata": {},
   "source": [
    "My Brazil dataset is complete and does not contain any missing values. "
   ]
  },
  {
   "cell_type": "markdown",
   "id": "d070756e-a070-4b6a-bf70-05d1d0ebdb44",
   "metadata": {},
   "source": [
    "### World"
   ]
  },
  {
   "cell_type": "code",
   "execution_count": 103,
   "id": "320da435-30ff-4f24-bb72-71cd5f926ae0",
   "metadata": {},
   "outputs": [
    {
     "data": {
      "text/plain": [
       "country                       0\n",
       "current_zika_transmission    10\n",
       "dtype: int64"
      ]
     },
     "execution_count": 103,
     "metadata": {},
     "output_type": "execute_result"
    }
   ],
   "source": [
    "wor.isnull().sum()"
   ]
  },
  {
   "cell_type": "markdown",
   "id": "29bdfb25-4a08-4c89-8bba-9b0495939a05",
   "metadata": {},
   "source": [
    "I found that my world dataset has some missing values specifically in the \"current_zika_transmission\" column. To be precise, there are 10 missing values in this column.\n",
    "\n",
    "Now, my next step is to identify the specific countries that do not have a classification for current Zika transmission from the World Health Organization (WHO). This will allow me to understand which countries lack this crucial information and consider how it may impact my analysis."
   ]
  },
  {
   "cell_type": "code",
   "execution_count": 104,
   "id": "dd00a25f-3839-485a-9c93-025b25618760",
   "metadata": {},
   "outputs": [
    {
     "data": {
      "text/html": [
       "<div>\n",
       "<style scoped>\n",
       "    .dataframe tbody tr th:only-of-type {\n",
       "        vertical-align: middle;\n",
       "    }\n",
       "\n",
       "    .dataframe tbody tr th {\n",
       "        vertical-align: top;\n",
       "    }\n",
       "\n",
       "    .dataframe thead th {\n",
       "        text-align: right;\n",
       "    }\n",
       "</style>\n",
       "<table border=\"1\" class=\"dataframe\">\n",
       "  <thead>\n",
       "    <tr style=\"text-align: right;\">\n",
       "      <th></th>\n",
       "      <th>country</th>\n",
       "      <th>current_zika_transmission</th>\n",
       "    </tr>\n",
       "  </thead>\n",
       "  <tbody>\n",
       "    <tr>\n",
       "      <th>3</th>\n",
       "      <td>Antigua and Barbuda</td>\n",
       "      <td>NaN</td>\n",
       "    </tr>\n",
       "    <tr>\n",
       "      <th>46</th>\n",
       "      <td>British Virgin Islands</td>\n",
       "      <td>NaN</td>\n",
       "    </tr>\n",
       "    <tr>\n",
       "      <th>53</th>\n",
       "      <td>Central African Republic</td>\n",
       "      <td>NaN</td>\n",
       "    </tr>\n",
       "    <tr>\n",
       "      <th>62</th>\n",
       "      <td>Dominican Republic</td>\n",
       "      <td>NaN</td>\n",
       "    </tr>\n",
       "    <tr>\n",
       "      <th>112</th>\n",
       "      <td>Lao People's Democratic Republic</td>\n",
       "      <td>NaN</td>\n",
       "    </tr>\n",
       "    <tr>\n",
       "      <th>148</th>\n",
       "      <td>Papua New Guinea</td>\n",
       "      <td>NaN</td>\n",
       "    </tr>\n",
       "    <tr>\n",
       "      <th>169</th>\n",
       "      <td>Saint Kitts and Nevis</td>\n",
       "      <td>NaN</td>\n",
       "    </tr>\n",
       "    <tr>\n",
       "      <th>172</th>\n",
       "      <td>Saint Vincent and the Grenadines</td>\n",
       "      <td>NaN</td>\n",
       "    </tr>\n",
       "    <tr>\n",
       "      <th>181</th>\n",
       "      <td>Trinidad and Tobago</td>\n",
       "      <td>NaN</td>\n",
       "    </tr>\n",
       "    <tr>\n",
       "      <th>182</th>\n",
       "      <td>Turks and Caicos islands</td>\n",
       "      <td>NaN</td>\n",
       "    </tr>\n",
       "  </tbody>\n",
       "</table>\n",
       "</div>"
      ],
      "text/plain": [
       "                              country current_zika_transmission\n",
       "3                 Antigua and Barbuda                       NaN\n",
       "46             British Virgin Islands                       NaN\n",
       "53           Central African Republic                       NaN\n",
       "62                 Dominican Republic                       NaN\n",
       "112  Lao People's Democratic Republic                       NaN\n",
       "148                  Papua New Guinea                       NaN\n",
       "169             Saint Kitts and Nevis                       NaN\n",
       "172  Saint Vincent and the Grenadines                       NaN\n",
       "181               Trinidad and Tobago                       NaN\n",
       "182          Turks and Caicos islands                       NaN"
      ]
     },
     "execution_count": 104,
     "metadata": {},
     "output_type": "execute_result"
    }
   ],
   "source": [
    "missing_values_df = wor[wor['current_zika_transmission'].isnull()]\n",
    "missing_values_df"
   ]
  },
  {
   "cell_type": "markdown",
   "id": "12d3ce23-0cee-41b5-9a75-ad4e63050c18",
   "metadata": {},
   "source": [
    "I have made the decision to remove these rows. Although there are missing values, their absence will not significantly impact the majority of my analysis."
   ]
  },
  {
   "cell_type": "code",
   "execution_count": 105,
   "id": "c96c5fcb-f0c7-4733-bd76-018c60f60e2a",
   "metadata": {},
   "outputs": [],
   "source": [
    "wor = wor.dropna(subset=['current_zika_transmission'])"
   ]
  },
  {
   "cell_type": "markdown",
   "id": "21230648-c1c3-4cca-8e22-ecfebe2eac56",
   "metadata": {},
   "source": [
    "Now, I proceeded to check if there are any remaining missing values in my world dataset."
   ]
  },
  {
   "cell_type": "code",
   "execution_count": 106,
   "id": "c780d25c-c6ea-4611-be26-8554aa48994d",
   "metadata": {},
   "outputs": [
    {
     "data": {
      "text/plain": [
       "country                      0\n",
       "current_zika_transmission    0\n",
       "dtype: int64"
      ]
     },
     "execution_count": 106,
     "metadata": {},
     "output_type": "execute_result"
    }
   ],
   "source": [
    "wor.isnull().sum()"
   ]
  },
  {
   "cell_type": "markdown",
   "id": "de6eefed-e667-41c1-85dc-8ad603cf342c",
   "metadata": {},
   "source": [
    "There are no more missing values in my world dataset."
   ]
  },
  {
   "cell_type": "markdown",
   "id": "6bf53d1a-39c8-4fc8-b143-5d82f82371fc",
   "metadata": {
    "tags": []
   },
   "source": [
    "## 3.4 Edit Values"
   ]
  },
  {
   "cell_type": "markdown",
   "id": "d7691240-b775-4963-af0e-737022797a02",
   "metadata": {},
   "source": [
    "I have decided to make some changes to certain values.\n",
    "\n",
    "Firstly, I intend to modify the column name \"current_zika_transmission\" to \"WHO_Category.\" This alteration will result in a more descriptive and meaningful column name that better represents the information it contains. By using \"WHO_Category,\" it becomes easier to understand the purpose and significance of this column in the dataset."
   ]
  },
  {
   "cell_type": "code",
   "execution_count": 107,
   "id": "3492f7c9-37cb-4169-9ef5-6fa949d3ba24",
   "metadata": {},
   "outputs": [
    {
     "data": {
      "text/html": [
       "<div>\n",
       "<style scoped>\n",
       "    .dataframe tbody tr th:only-of-type {\n",
       "        vertical-align: middle;\n",
       "    }\n",
       "\n",
       "    .dataframe tbody tr th {\n",
       "        vertical-align: top;\n",
       "    }\n",
       "\n",
       "    .dataframe thead th {\n",
       "        text-align: right;\n",
       "    }\n",
       "</style>\n",
       "<table border=\"1\" class=\"dataframe\">\n",
       "  <thead>\n",
       "    <tr style=\"text-align: right;\">\n",
       "      <th></th>\n",
       "      <th>country</th>\n",
       "      <th>WHO_Category</th>\n",
       "    </tr>\n",
       "  </thead>\n",
       "  <tbody>\n",
       "    <tr>\n",
       "      <th>0</th>\n",
       "      <td>American Samoa</td>\n",
       "      <td>Areas with interrupted transmission (WHO cat. 3)</td>\n",
       "    </tr>\n",
       "    <tr>\n",
       "      <th>1</th>\n",
       "      <td>Angola</td>\n",
       "      <td>Areas with virus transmission following virus ...</td>\n",
       "    </tr>\n",
       "    <tr>\n",
       "      <th>2</th>\n",
       "      <td>Anguilla</td>\n",
       "      <td>Areas with virus transmission following virus ...</td>\n",
       "    </tr>\n",
       "    <tr>\n",
       "      <th>4</th>\n",
       "      <td>Argentina</td>\n",
       "      <td>Areas with virus transmission following virus ...</td>\n",
       "    </tr>\n",
       "    <tr>\n",
       "      <th>5</th>\n",
       "      <td>Argentina</td>\n",
       "      <td>Areas with virus transmission following virus ...</td>\n",
       "    </tr>\n",
       "  </tbody>\n",
       "</table>\n",
       "</div>"
      ],
      "text/plain": [
       "          country                                       WHO_Category\n",
       "0  American Samoa   Areas with interrupted transmission (WHO cat. 3)\n",
       "1          Angola  Areas with virus transmission following virus ...\n",
       "2        Anguilla  Areas with virus transmission following virus ...\n",
       "4       Argentina  Areas with virus transmission following virus ...\n",
       "5       Argentina  Areas with virus transmission following virus ..."
      ]
     },
     "execution_count": 107,
     "metadata": {},
     "output_type": "execute_result"
    }
   ],
   "source": [
    "wor = wor.rename(columns={'current_zika_transmission': 'WHO_Category'})\n",
    "wor.head()"
   ]
  },
  {
   "cell_type": "markdown",
   "id": "0b8a64cf-eaa2-4a26-b7a3-df92018abbd0",
   "metadata": {},
   "source": [
    "Secondly, I would like to modify the text in the \"WHO_Category\" column to display only the category number provided by the World Health Organization (WHO). This adjustment aims to simplify the data representation, making it more concise and focused on the essential information."
   ]
  },
  {
   "cell_type": "code",
   "execution_count": 108,
   "id": "53879853-c085-4638-bdfd-fd4ef0805441",
   "metadata": {},
   "outputs": [],
   "source": [
    "wor['WHO_Category'] = wor['WHO_Category'].str.extract('(\\\\d+)').astype(float)\n",
    "wor['WHO_Category'] = wor['WHO_Category'].astype(int)"
   ]
  },
  {
   "cell_type": "code",
   "execution_count": 109,
   "id": "93d292ad-564c-4663-895a-cd5f5aae2878",
   "metadata": {
    "tags": []
   },
   "outputs": [
    {
     "data": {
      "text/html": [
       "<div>\n",
       "<style scoped>\n",
       "    .dataframe tbody tr th:only-of-type {\n",
       "        vertical-align: middle;\n",
       "    }\n",
       "\n",
       "    .dataframe tbody tr th {\n",
       "        vertical-align: top;\n",
       "    }\n",
       "\n",
       "    .dataframe thead th {\n",
       "        text-align: right;\n",
       "    }\n",
       "</style>\n",
       "<table border=\"1\" class=\"dataframe\">\n",
       "  <thead>\n",
       "    <tr style=\"text-align: right;\">\n",
       "      <th></th>\n",
       "      <th>country</th>\n",
       "      <th>WHO_Category</th>\n",
       "    </tr>\n",
       "  </thead>\n",
       "  <tbody>\n",
       "    <tr>\n",
       "      <th>0</th>\n",
       "      <td>American Samoa</td>\n",
       "      <td>3</td>\n",
       "    </tr>\n",
       "    <tr>\n",
       "      <th>1</th>\n",
       "      <td>Angola</td>\n",
       "      <td>1</td>\n",
       "    </tr>\n",
       "    <tr>\n",
       "      <th>2</th>\n",
       "      <td>Anguilla</td>\n",
       "      <td>1</td>\n",
       "    </tr>\n",
       "    <tr>\n",
       "      <th>4</th>\n",
       "      <td>Argentina</td>\n",
       "      <td>1</td>\n",
       "    </tr>\n",
       "    <tr>\n",
       "      <th>5</th>\n",
       "      <td>Argentina</td>\n",
       "      <td>1</td>\n",
       "    </tr>\n",
       "  </tbody>\n",
       "</table>\n",
       "</div>"
      ],
      "text/plain": [
       "          country  WHO_Category\n",
       "0  American Samoa             3\n",
       "1          Angola             1\n",
       "2        Anguilla             1\n",
       "4       Argentina             1\n",
       "5       Argentina             1"
      ]
     },
     "execution_count": 109,
     "metadata": {},
     "output_type": "execute_result"
    }
   ],
   "source": [
    "wor.head()"
   ]
  },
  {
   "cell_type": "markdown",
   "id": "b6aa0008",
   "metadata": {
    "tags": []
   },
   "source": [
    "# 4) Explore Data"
   ]
  },
  {
   "cell_type": "markdown",
   "id": "30525f9b-d490-4653-936b-a4f406f0c4f7",
   "metadata": {
    "tags": []
   },
   "source": [
    "## 4.1 World\n",
    "As I embark on my analysis, I am excited to delve into the Zika virus data within my world dataset. This initial exploration holds the key to uncovering valuable insights about the countries that are more susceptible to the Zika virus."
   ]
  },
  {
   "cell_type": "markdown",
   "id": "c0830bac-b911-4a0d-937b-ff5c57a236e1",
   "metadata": {
    "tags": []
   },
   "source": [
    "#### 4.1.1 WHO Category\n",
    "The World Health Organization (WHO) categorizes areas with virus transmission into three groups:\n",
    "\n",
    "- Category 1: Areas where there is active virus transmission following a new or reintroduced virus. These areas pose a significant public health concern as the virus is actively spreading.\n",
    "- Category 2: Areas where virus transmission occurred in the past but has now been interrupted or temporarily stopped. The risk of active transmission is lower in these areas due to successful control measures.\n",
    "- Category 3: Areas where virus transmission has been successfully interrupted and there is currently no active circulation. The risk of new infections is minimal in these areas.\n",
    "\n",
    "This classification helps us understand the status of virus transmission in different areas and guides appropriate public health measures and interventions to prevent further spread."
   ]
  },
  {
   "cell_type": "markdown",
   "id": "700e31fe-f4c4-4e6a-b185-56c5ee2b06ac",
   "metadata": {
    "tags": []
   },
   "source": [
    "### 4.1.2 WHO Category Analysis\n",
    "I am curious to find out how many countries around the world are currently categorized into each of the three classifications (Category 1, Category 2, and Category 3) established by the World Health Organization (WHO).\n",
    "\n",
    "To accomplish this, I will thoroughly examine the available data and identify the countries falling into Category 1. These countries are currently experiencing active virus transmission following the introduction or reintroduction of the virus. I will also determine the number of countries falling into Category 2, which refers to areas where virus transmission had occurred previously but has now been successfully interrupted. Lastly, I will identify the countries falling into Category 3, representing areas with no active virus transmission due to successful interruption measures."
   ]
  },
  {
   "cell_type": "code",
   "execution_count": 110,
   "id": "0003b2ff-fed5-4e8a-b58f-a34a291ade72",
   "metadata": {},
   "outputs": [
    {
     "data": {
      "text/plain": [
       "1    127\n",
       "2     52\n",
       "3      4\n",
       "Name: WHO_Category, dtype: int64"
      ]
     },
     "execution_count": 110,
     "metadata": {},
     "output_type": "execute_result"
    }
   ],
   "source": [
    "category_counts = wor['WHO_Category'].value_counts()\n",
    "category_counts"
   ]
  },
  {
   "cell_type": "markdown",
   "id": "52dc6f68-da57-40f8-a1d8-275b540ad5fd",
   "metadata": {},
   "source": [
    "From the counts, there are 127 countries classified in Category 1, indicating active virus transmission. Additionally, there are 52 countries in Category 2, representing areas with interrupted virus transmission. Lastly, there are 4 countries in Category 3, where virus transmission has been successfully interrupted.\n",
    "\n",
    "Now, I will proceed to identify the countries that fall under Category 3, where virus transmission has been successfully interrupted. "
   ]
  },
  {
   "cell_type": "code",
   "execution_count": 111,
   "id": "91d81a62-80dc-4eeb-a9a8-842dfdd016f2",
   "metadata": {},
   "outputs": [
    {
     "data": {
      "text/plain": [
       "0        American Samoa\n",
       "56         Cook Islands\n",
       "168    Saint Barthelemy\n",
       "190             Vanuatu\n",
       "Name: country, dtype: object"
      ]
     },
     "execution_count": 111,
     "metadata": {},
     "output_type": "execute_result"
    }
   ],
   "source": [
    "category_3_countries = wor[wor['WHO_Category'] == 3]['country']\n",
    "category_3_countries"
   ]
  },
  {
   "cell_type": "markdown",
   "id": "afa05bc7",
   "metadata": {},
   "source": [
    "Among the countries that have successfully interrupted virus transmission, we have American Samoa, Cook Islands, Saint Barthélemy, and Vanuatu. These four countries demonstrate remarkable achievements in effectively stopping the spread of the virus."
   ]
  },
  {
   "cell_type": "markdown",
   "id": "f451e54a-f98d-4ddf-b996-73c93af1813c",
   "metadata": {},
   "source": [
    "I will now check which countries fall under Category 2, where virus transmission has been interrupted."
   ]
  },
  {
   "cell_type": "code",
   "execution_count": 112,
   "id": "fce91df3-ba8d-4b06-9dff-ea891c8a5d71",
   "metadata": {},
   "outputs": [
    {
     "data": {
      "text/plain": [
       "11        Bangladesh\n",
       "18            Brazil\n",
       "19            Brazil\n",
       "20            Brazil\n",
       "47      Burkina Faso\n",
       "48           Burundi\n",
       "49          Cambodia\n",
       "50          Cameroon\n",
       "58     Côte d'Ivoire\n",
       "68             Gabon\n",
       "74             Haiti\n",
       "76            ​India\n",
       "78         Indonesia\n",
       "79         Indonesia\n",
       "80         Indonesia\n",
       "81         Indonesia\n",
       "82         Indonesia\n",
       "83         Indonesia\n",
       "84         Indonesia\n",
       "85         Indonesia\n",
       "86         Indonesia\n",
       "87         Indonesia\n",
       "88         Indonesia\n",
       "89         Indonesia\n",
       "90         Indonesia\n",
       "91         Indonesia\n",
       "92         Indonesia\n",
       "93         Indonesia\n",
       "94         Indonesia\n",
       "95         Indonesia\n",
       "96         Indonesia\n",
       "97         Indonesia\n",
       "98         Indonesia\n",
       "99         Indonesia\n",
       "100        Indonesia\n",
       "101        Indonesia\n",
       "102        Indonesia\n",
       "103        Indonesia\n",
       "104        Indonesia\n",
       "105        Indonesia\n",
       "106        Indonesia\n",
       "107        Indonesia\n",
       "108        Indonesia\n",
       "109        Indonesia\n",
       "110        Indonesia\n",
       "113         Malaysia\n",
       "145          Nigeria\n",
       "166      Philippines\n",
       "174          Senegal\n",
       "179         Thailand\n",
       "183           Uganda\n",
       "192          Vietnam\n",
       "Name: country, dtype: object"
      ]
     },
     "execution_count": 112,
     "metadata": {},
     "output_type": "execute_result"
    }
   ],
   "source": [
    "category_2_countries = wor[wor['WHO_Category'] == 2]['country']\n",
    "category_2_countries"
   ]
  },
  {
   "cell_type": "markdown",
   "id": "ed881908-733c-4f9b-a515-f0921103b412",
   "metadata": {},
   "source": [
    "I noticed the presence of recurring countries. To eliminate duplicate entries, I will undertake the necessary steps to clean up the dataset and remove these duplicate country records."
   ]
  },
  {
   "cell_type": "code",
   "execution_count": 113,
   "id": "07f580c4-36dc-4027-baa7-28e19299f6ea",
   "metadata": {},
   "outputs": [],
   "source": [
    "wor = wor.drop_duplicates(subset='country')"
   ]
  },
  {
   "cell_type": "markdown",
   "id": "b71704e2-9de5-4887-b6a1-91b15ee025c0",
   "metadata": {},
   "source": [
    "I recognized the need to reevaluate the count of countries in each category. This will provide accurate information and allow me to determine the precise number of countries in each category, as defined earlier. "
   ]
  },
  {
   "cell_type": "code",
   "execution_count": 114,
   "id": "acde5bd9-58d7-45c8-9d28-43fbc1716d03",
   "metadata": {},
   "outputs": [
    {
     "data": {
      "text/plain": [
       "1    52\n",
       "2    17\n",
       "3     4\n",
       "Name: WHO_Category, dtype: int64"
      ]
     },
     "execution_count": 114,
     "metadata": {},
     "output_type": "execute_result"
    }
   ],
   "source": [
    "category_counts = wor['WHO_Category'].value_counts()\n",
    "category_counts"
   ]
  },
  {
   "cell_type": "markdown",
   "id": "78234e14-5273-4c5c-93ff-a014db4b074e",
   "metadata": {},
   "source": [
    "After the reassessment, I see that there are now 17 countries in Category 2. Additionally, there are still 4 countries remaining in Category 3."
   ]
  },
  {
   "cell_type": "code",
   "execution_count": 115,
   "id": "cf0b8b74-fe70-47fb-afa0-dd01d0a10979",
   "metadata": {},
   "outputs": [
    {
     "data": {
      "text/plain": [
       "11        Bangladesh\n",
       "18            Brazil\n",
       "47      Burkina Faso\n",
       "48           Burundi\n",
       "49          Cambodia\n",
       "50          Cameroon\n",
       "58     Côte d'Ivoire\n",
       "68             Gabon\n",
       "74             Haiti\n",
       "76            ​India\n",
       "113         Malaysia\n",
       "145          Nigeria\n",
       "166      Philippines\n",
       "174          Senegal\n",
       "179         Thailand\n",
       "183           Uganda\n",
       "192          Vietnam\n",
       "Name: country, dtype: object"
      ]
     },
     "execution_count": 115,
     "metadata": {},
     "output_type": "execute_result"
    }
   ],
   "source": [
    "category_2_countries = wor[wor['WHO_Category'] == 2]['country']\n",
    "category_2_countries"
   ]
  },
  {
   "cell_type": "markdown",
   "id": "984d7246",
   "metadata": {},
   "source": [
    "The following countries fall into Category 2, indicating interrupted virus transmission. These countries have experienced a reduction in virus transmission"
   ]
  },
  {
   "cell_type": "markdown",
   "id": "87ebda88",
   "metadata": {},
   "source": [
    "I will now check which countries fall under Category 1, which signifies areas with ongoing virus transmission."
   ]
  },
  {
   "cell_type": "code",
   "execution_count": 116,
   "id": "74281e28",
   "metadata": {},
   "outputs": [
    {
     "data": {
      "text/plain": [
       "1                                Angola\n",
       "2                              Anguilla\n",
       "4                             Argentina\n",
       "8                            ​Argentina\n",
       "9                                 Aruba\n",
       "10                              Bahamas\n",
       "12                             Barbados\n",
       "13                               Belize\n",
       "14                              Bolivia\n",
       "15     Bonaire, Sint Eustatius and Saba\n",
       "51                           Cape Verde\n",
       "52                       Cayman Islands\n",
       "54                                Chile\n",
       "55                             Colombia\n",
       "57                           Costa Rica\n",
       "59                                 Cuba\n",
       "60                              Curaçao\n",
       "61                             Dominica\n",
       "63                              Ecuador\n",
       "64                          El Salvador\n",
       "65                                 Fiji\n",
       "66                               France\n",
       "69                              Grenada\n",
       "70                           Guadeloupe\n",
       "71                            Guatemala\n",
       "72                        Guinea-Bissau\n",
       "73                               Guyana\n",
       "75                             Honduras\n",
       "77                            Indonesia\n",
       "111                             Jamaica\n",
       "114                            Maldives\n",
       "115                    Marshall Islands\n",
       "116                              Mexico\n",
       "142                          Micronesia\n",
       "143                          Montserrat\n",
       "144                           Nicaragua\n",
       "146                               Palau\n",
       "147                              Panama\n",
       "149                            Paraguay\n",
       "165                                Peru\n",
       "167                         Puerto Rico\n",
       "170                         Saint Lucia\n",
       "171                        Saint Martin\n",
       "173                               Samoa\n",
       "175                           Singapore\n",
       "176                        Sint Maarten\n",
       "177                     Solomon Islands\n",
       "178                            Suriname\n",
       "180                               Tonga\n",
       "184            United States of America\n",
       "189        United States Virgin Islands\n",
       "191                           Venezuela\n",
       "Name: country, dtype: object"
      ]
     },
     "execution_count": 116,
     "metadata": {},
     "output_type": "execute_result"
    }
   ],
   "source": [
    "category_1_countries = wor[wor['WHO_Category'] == 1]['country']\n",
    "category_1_countries"
   ]
  },
  {
   "cell_type": "markdown",
   "id": "d2212c11",
   "metadata": {},
   "source": [
    "The following countries fall into Category 3, indicating areas with ongoing virus transmission.\n",
    "\n",
    "I will now create a visualization that displays the categories, from 1 to 3, alongside the corresponding countries. This visual representation will provide a clear and comprehensive overview, allowing us to easily identify which country falls into each category."
   ]
  },
  {
   "cell_type": "code",
   "execution_count": 117,
   "id": "19609330",
   "metadata": {},
   "outputs": [
    {
     "data": {
      "text/html": [
       "<div>\n",
       "<style scoped>\n",
       "    .dataframe tbody tr th:only-of-type {\n",
       "        vertical-align: middle;\n",
       "    }\n",
       "\n",
       "    .dataframe tbody tr th {\n",
       "        vertical-align: top;\n",
       "    }\n",
       "\n",
       "    .dataframe thead th {\n",
       "        text-align: right;\n",
       "    }\n",
       "</style>\n",
       "<table border=\"1\" class=\"dataframe\">\n",
       "  <thead>\n",
       "    <tr style=\"text-align: right;\">\n",
       "      <th></th>\n",
       "      <th>Category 1</th>\n",
       "      <th>Category 2</th>\n",
       "      <th>Category 3</th>\n",
       "    </tr>\n",
       "  </thead>\n",
       "  <tbody>\n",
       "    <tr>\n",
       "      <th>0</th>\n",
       "      <td>Angola</td>\n",
       "      <td>Bangladesh</td>\n",
       "      <td>American Samoa</td>\n",
       "    </tr>\n",
       "    <tr>\n",
       "      <th>1</th>\n",
       "      <td>Anguilla</td>\n",
       "      <td>Brazil</td>\n",
       "      <td>Cook Islands</td>\n",
       "    </tr>\n",
       "    <tr>\n",
       "      <th>2</th>\n",
       "      <td>Argentina</td>\n",
       "      <td>Burkina Faso</td>\n",
       "      <td>Saint Barthelemy</td>\n",
       "    </tr>\n",
       "    <tr>\n",
       "      <th>3</th>\n",
       "      <td>​Argentina</td>\n",
       "      <td>Burundi</td>\n",
       "      <td>Vanuatu</td>\n",
       "    </tr>\n",
       "    <tr>\n",
       "      <th>4</th>\n",
       "      <td>Aruba</td>\n",
       "      <td>Cambodia</td>\n",
       "      <td>NaN</td>\n",
       "    </tr>\n",
       "    <tr>\n",
       "      <th>5</th>\n",
       "      <td>Bahamas</td>\n",
       "      <td>Cameroon</td>\n",
       "      <td>NaN</td>\n",
       "    </tr>\n",
       "    <tr>\n",
       "      <th>6</th>\n",
       "      <td>Barbados</td>\n",
       "      <td>Côte d'Ivoire</td>\n",
       "      <td>NaN</td>\n",
       "    </tr>\n",
       "    <tr>\n",
       "      <th>7</th>\n",
       "      <td>Belize</td>\n",
       "      <td>Gabon</td>\n",
       "      <td>NaN</td>\n",
       "    </tr>\n",
       "    <tr>\n",
       "      <th>8</th>\n",
       "      <td>Bolivia</td>\n",
       "      <td>Haiti</td>\n",
       "      <td>NaN</td>\n",
       "    </tr>\n",
       "    <tr>\n",
       "      <th>9</th>\n",
       "      <td>Bonaire, Sint Eustatius and Saba</td>\n",
       "      <td>​India</td>\n",
       "      <td>NaN</td>\n",
       "    </tr>\n",
       "    <tr>\n",
       "      <th>10</th>\n",
       "      <td>Cape Verde</td>\n",
       "      <td>Malaysia</td>\n",
       "      <td>NaN</td>\n",
       "    </tr>\n",
       "    <tr>\n",
       "      <th>11</th>\n",
       "      <td>Cayman Islands</td>\n",
       "      <td>Nigeria</td>\n",
       "      <td>NaN</td>\n",
       "    </tr>\n",
       "    <tr>\n",
       "      <th>12</th>\n",
       "      <td>Chile</td>\n",
       "      <td>Philippines</td>\n",
       "      <td>NaN</td>\n",
       "    </tr>\n",
       "    <tr>\n",
       "      <th>13</th>\n",
       "      <td>Colombia</td>\n",
       "      <td>Senegal</td>\n",
       "      <td>NaN</td>\n",
       "    </tr>\n",
       "    <tr>\n",
       "      <th>14</th>\n",
       "      <td>Costa Rica</td>\n",
       "      <td>Thailand</td>\n",
       "      <td>NaN</td>\n",
       "    </tr>\n",
       "    <tr>\n",
       "      <th>15</th>\n",
       "      <td>Cuba</td>\n",
       "      <td>Uganda</td>\n",
       "      <td>NaN</td>\n",
       "    </tr>\n",
       "    <tr>\n",
       "      <th>16</th>\n",
       "      <td>Curaçao</td>\n",
       "      <td>Vietnam</td>\n",
       "      <td>NaN</td>\n",
       "    </tr>\n",
       "    <tr>\n",
       "      <th>17</th>\n",
       "      <td>Dominica</td>\n",
       "      <td>NaN</td>\n",
       "      <td>NaN</td>\n",
       "    </tr>\n",
       "    <tr>\n",
       "      <th>18</th>\n",
       "      <td>Ecuador</td>\n",
       "      <td>NaN</td>\n",
       "      <td>NaN</td>\n",
       "    </tr>\n",
       "    <tr>\n",
       "      <th>19</th>\n",
       "      <td>El Salvador</td>\n",
       "      <td>NaN</td>\n",
       "      <td>NaN</td>\n",
       "    </tr>\n",
       "    <tr>\n",
       "      <th>20</th>\n",
       "      <td>Fiji</td>\n",
       "      <td>NaN</td>\n",
       "      <td>NaN</td>\n",
       "    </tr>\n",
       "    <tr>\n",
       "      <th>21</th>\n",
       "      <td>France</td>\n",
       "      <td>NaN</td>\n",
       "      <td>NaN</td>\n",
       "    </tr>\n",
       "    <tr>\n",
       "      <th>22</th>\n",
       "      <td>Grenada</td>\n",
       "      <td>NaN</td>\n",
       "      <td>NaN</td>\n",
       "    </tr>\n",
       "    <tr>\n",
       "      <th>23</th>\n",
       "      <td>Guadeloupe</td>\n",
       "      <td>NaN</td>\n",
       "      <td>NaN</td>\n",
       "    </tr>\n",
       "    <tr>\n",
       "      <th>24</th>\n",
       "      <td>Guatemala</td>\n",
       "      <td>NaN</td>\n",
       "      <td>NaN</td>\n",
       "    </tr>\n",
       "    <tr>\n",
       "      <th>25</th>\n",
       "      <td>Guinea-Bissau</td>\n",
       "      <td>NaN</td>\n",
       "      <td>NaN</td>\n",
       "    </tr>\n",
       "    <tr>\n",
       "      <th>26</th>\n",
       "      <td>Guyana</td>\n",
       "      <td>NaN</td>\n",
       "      <td>NaN</td>\n",
       "    </tr>\n",
       "    <tr>\n",
       "      <th>27</th>\n",
       "      <td>Honduras</td>\n",
       "      <td>NaN</td>\n",
       "      <td>NaN</td>\n",
       "    </tr>\n",
       "    <tr>\n",
       "      <th>28</th>\n",
       "      <td>Indonesia</td>\n",
       "      <td>NaN</td>\n",
       "      <td>NaN</td>\n",
       "    </tr>\n",
       "    <tr>\n",
       "      <th>29</th>\n",
       "      <td>Jamaica</td>\n",
       "      <td>NaN</td>\n",
       "      <td>NaN</td>\n",
       "    </tr>\n",
       "    <tr>\n",
       "      <th>30</th>\n",
       "      <td>Maldives</td>\n",
       "      <td>NaN</td>\n",
       "      <td>NaN</td>\n",
       "    </tr>\n",
       "    <tr>\n",
       "      <th>31</th>\n",
       "      <td>Marshall Islands</td>\n",
       "      <td>NaN</td>\n",
       "      <td>NaN</td>\n",
       "    </tr>\n",
       "    <tr>\n",
       "      <th>32</th>\n",
       "      <td>Mexico</td>\n",
       "      <td>NaN</td>\n",
       "      <td>NaN</td>\n",
       "    </tr>\n",
       "    <tr>\n",
       "      <th>33</th>\n",
       "      <td>Micronesia</td>\n",
       "      <td>NaN</td>\n",
       "      <td>NaN</td>\n",
       "    </tr>\n",
       "    <tr>\n",
       "      <th>34</th>\n",
       "      <td>Montserrat</td>\n",
       "      <td>NaN</td>\n",
       "      <td>NaN</td>\n",
       "    </tr>\n",
       "    <tr>\n",
       "      <th>35</th>\n",
       "      <td>Nicaragua</td>\n",
       "      <td>NaN</td>\n",
       "      <td>NaN</td>\n",
       "    </tr>\n",
       "    <tr>\n",
       "      <th>36</th>\n",
       "      <td>Palau</td>\n",
       "      <td>NaN</td>\n",
       "      <td>NaN</td>\n",
       "    </tr>\n",
       "    <tr>\n",
       "      <th>37</th>\n",
       "      <td>Panama</td>\n",
       "      <td>NaN</td>\n",
       "      <td>NaN</td>\n",
       "    </tr>\n",
       "    <tr>\n",
       "      <th>38</th>\n",
       "      <td>Paraguay</td>\n",
       "      <td>NaN</td>\n",
       "      <td>NaN</td>\n",
       "    </tr>\n",
       "    <tr>\n",
       "      <th>39</th>\n",
       "      <td>Peru</td>\n",
       "      <td>NaN</td>\n",
       "      <td>NaN</td>\n",
       "    </tr>\n",
       "    <tr>\n",
       "      <th>40</th>\n",
       "      <td>Puerto Rico</td>\n",
       "      <td>NaN</td>\n",
       "      <td>NaN</td>\n",
       "    </tr>\n",
       "    <tr>\n",
       "      <th>41</th>\n",
       "      <td>Saint Lucia</td>\n",
       "      <td>NaN</td>\n",
       "      <td>NaN</td>\n",
       "    </tr>\n",
       "    <tr>\n",
       "      <th>42</th>\n",
       "      <td>Saint Martin</td>\n",
       "      <td>NaN</td>\n",
       "      <td>NaN</td>\n",
       "    </tr>\n",
       "    <tr>\n",
       "      <th>43</th>\n",
       "      <td>Samoa</td>\n",
       "      <td>NaN</td>\n",
       "      <td>NaN</td>\n",
       "    </tr>\n",
       "    <tr>\n",
       "      <th>44</th>\n",
       "      <td>Singapore</td>\n",
       "      <td>NaN</td>\n",
       "      <td>NaN</td>\n",
       "    </tr>\n",
       "    <tr>\n",
       "      <th>45</th>\n",
       "      <td>Sint Maarten</td>\n",
       "      <td>NaN</td>\n",
       "      <td>NaN</td>\n",
       "    </tr>\n",
       "    <tr>\n",
       "      <th>46</th>\n",
       "      <td>Solomon Islands</td>\n",
       "      <td>NaN</td>\n",
       "      <td>NaN</td>\n",
       "    </tr>\n",
       "    <tr>\n",
       "      <th>47</th>\n",
       "      <td>Suriname</td>\n",
       "      <td>NaN</td>\n",
       "      <td>NaN</td>\n",
       "    </tr>\n",
       "    <tr>\n",
       "      <th>48</th>\n",
       "      <td>Tonga</td>\n",
       "      <td>NaN</td>\n",
       "      <td>NaN</td>\n",
       "    </tr>\n",
       "    <tr>\n",
       "      <th>49</th>\n",
       "      <td>United States of America</td>\n",
       "      <td>NaN</td>\n",
       "      <td>NaN</td>\n",
       "    </tr>\n",
       "    <tr>\n",
       "      <th>50</th>\n",
       "      <td>United States Virgin Islands</td>\n",
       "      <td>NaN</td>\n",
       "      <td>NaN</td>\n",
       "    </tr>\n",
       "    <tr>\n",
       "      <th>51</th>\n",
       "      <td>Venezuela</td>\n",
       "      <td>NaN</td>\n",
       "      <td>NaN</td>\n",
       "    </tr>\n",
       "  </tbody>\n",
       "</table>\n",
       "</div>"
      ],
      "text/plain": [
       "                          Category 1     Category 2        Category 3\n",
       "0                             Angola     Bangladesh    American Samoa\n",
       "1                           Anguilla         Brazil      Cook Islands\n",
       "2                          Argentina   Burkina Faso  Saint Barthelemy\n",
       "3                         ​Argentina        Burundi           Vanuatu\n",
       "4                              Aruba       Cambodia               NaN\n",
       "5                            Bahamas       Cameroon               NaN\n",
       "6                           Barbados  Côte d'Ivoire               NaN\n",
       "7                             Belize          Gabon               NaN\n",
       "8                            Bolivia          Haiti               NaN\n",
       "9   Bonaire, Sint Eustatius and Saba         ​India               NaN\n",
       "10                        Cape Verde       Malaysia               NaN\n",
       "11                    Cayman Islands        Nigeria               NaN\n",
       "12                             Chile    Philippines               NaN\n",
       "13                          Colombia        Senegal               NaN\n",
       "14                        Costa Rica       Thailand               NaN\n",
       "15                              Cuba         Uganda               NaN\n",
       "16                           Curaçao        Vietnam               NaN\n",
       "17                          Dominica            NaN               NaN\n",
       "18                           Ecuador            NaN               NaN\n",
       "19                       El Salvador            NaN               NaN\n",
       "20                              Fiji            NaN               NaN\n",
       "21                            France            NaN               NaN\n",
       "22                           Grenada            NaN               NaN\n",
       "23                        Guadeloupe            NaN               NaN\n",
       "24                         Guatemala            NaN               NaN\n",
       "25                     Guinea-Bissau            NaN               NaN\n",
       "26                            Guyana            NaN               NaN\n",
       "27                          Honduras            NaN               NaN\n",
       "28                         Indonesia            NaN               NaN\n",
       "29                           Jamaica            NaN               NaN\n",
       "30                          Maldives            NaN               NaN\n",
       "31                  Marshall Islands            NaN               NaN\n",
       "32                            Mexico            NaN               NaN\n",
       "33                        Micronesia            NaN               NaN\n",
       "34                        Montserrat            NaN               NaN\n",
       "35                         Nicaragua            NaN               NaN\n",
       "36                             Palau            NaN               NaN\n",
       "37                            Panama            NaN               NaN\n",
       "38                          Paraguay            NaN               NaN\n",
       "39                              Peru            NaN               NaN\n",
       "40                       Puerto Rico            NaN               NaN\n",
       "41                       Saint Lucia            NaN               NaN\n",
       "42                      Saint Martin            NaN               NaN\n",
       "43                             Samoa            NaN               NaN\n",
       "44                         Singapore            NaN               NaN\n",
       "45                      Sint Maarten            NaN               NaN\n",
       "46                   Solomon Islands            NaN               NaN\n",
       "47                          Suriname            NaN               NaN\n",
       "48                             Tonga            NaN               NaN\n",
       "49          United States of America            NaN               NaN\n",
       "50      United States Virgin Islands            NaN               NaN\n",
       "51                         Venezuela            NaN               NaN"
      ]
     },
     "execution_count": 117,
     "metadata": {},
     "output_type": "execute_result"
    }
   ],
   "source": [
    "category_1_countries.reset_index(drop=True, inplace=True)\n",
    "category_2_countries.reset_index(drop=True, inplace=True)\n",
    "category_3_countries.reset_index(drop=True, inplace=True)\n",
    "\n",
    "#Change column text from country to Category\n",
    "country_1 = pd.concat([category_1_countries], axis=1)\n",
    "country_1 = country_1.rename(columns={'country': 'Category 1'})\n",
    "\n",
    "country_2 = pd.concat([category_2_countries], axis=1)\n",
    "country_2 = country_2.rename(columns={'country': 'Category 2'})\n",
    "\n",
    "country_3 = pd.concat([category_3_countries], axis=1)\n",
    "country_3 = country_3.rename(columns={'country': 'Category 3'})\n",
    "\n",
    "\n",
    "world = pd.concat([country_1,country_2,country_3], axis=1)\n",
    "world"
   ]
  },
  {
   "cell_type": "markdown",
   "id": "6b7b627e-eb35-45fb-b99f-24db8fea6d27",
   "metadata": {},
   "source": [
    "## 4.2 Brazil\n",
    "### 4.2.1 Bubble Chart\n",
    "As I delve into my analysis of Brazil, I begin by creating a bubble chart to visually depict the confirmed cases and reported cases in each state. This visualization will provide a clear and intuitive representation, enabling me to grasp the extent and distribution of the Zika virus impact throughout different states in Brazil. "
   ]
  },
  {
   "cell_type": "markdown",
   "id": "5f449dd5-ee18-45ff-b903-c5947d5ab6ed",
   "metadata": {},
   "source": [
    "- My first step is to convert the columns to numeric values."
   ]
  },
  {
   "cell_type": "code",
   "execution_count": 118,
   "id": "d864932c-3df5-4fa3-b93a-1b424119ec22",
   "metadata": {},
   "outputs": [],
   "source": [
    "bra['cases_confirmed'] = pd.to_numeric(bra['cases_confirmed'], errors='coerce')\n",
    "bra['cases_reported_total'] = pd.to_numeric(bra['cases_reported_total'], errors='coerce')"
   ]
  },
  {
   "cell_type": "markdown",
   "id": "3303767c-c5bb-4f23-adb9-21b6ea9cc81f",
   "metadata": {},
   "source": [
    "- My second step is to create the Bubble Chart"
   ]
  },
  {
   "cell_type": "code",
   "execution_count": 119,
   "id": "207fe02e-dafa-48cb-9a83-f3d2c78d4e19",
   "metadata": {},
   "outputs": [
    {
     "data": {
      "image/png": "[encoded data removed]",
      "text/plain": [
       "<Figure size 1500x1000 with 1 Axes>"
      ]
     },
     "metadata": {},
     "output_type": "display_data"
    }
   ],
   "source": [
    "plt.figure(figsize=(15, 10))\n",
    "plt.scatter(bra['cases_confirmed'], bra['cases_reported_total'], s=bra['cases_reported_total'], alpha=0.5)\n",
    "\n",
    "for i in range(bra.shape[0]):\n",
    "    plt.text(bra['cases_confirmed'].iloc[i], bra['cases_reported_total'].iloc[i], bra['state'].iloc[i], fontsize=10, ha='center')\n",
    "    \n",
    "plt.xlabel('Cases Confirmed')\n",
    "plt.ylabel('Cases Reported Total')\n",
    "plt.title('Bubble Chart: Confirmed Cases vs Reported Total Cases')\n",
    "plt.show()"
   ]
  },
  {
   "cell_type": "markdown",
   "id": "f974ecd3-ba58-4dea-ac65-f303de43c962",
   "metadata": {},
   "source": [
    "Upon analyzing the bubble chart, it becomes apparent that not all states have reported any confirmed cases. It is quite striking to see that a majority of the states have yet to confirm any cases. This observation raises concerns about the effectiveness of testing efforts in the country, suggesting a potential lack of widespread testing coverage.\n",
    "\n",
    "Moreover, the bubble chart highlights Pernambuco state as having the highest number of both reported and confirmed cases. It is worth noting that the bubble representing Pernambuco is visibly larger compared to other states, indicating a greater magnitude of cases. This visual correlation between bubble size and reported cases suggests that a higher number of reported cases often corresponds to a higher likelihood of confirmed cases.\n",
    "\n",
    "By closely examining the bubble chart, we gain valuable insights into the distribution and relationship between reported and confirmed cases across different states. These findings not only raise questions about testing strategies and coverage but also provide a basis for further investigation and understanding of the Zika virus situation in Brazil."
   ]
  },
  {
   "cell_type": "markdown",
   "id": "be077c07-0ce9-4537-a6dd-7d1bdfaaba06",
   "metadata": {},
   "source": [
    "### 4.2.2 Cases\n",
    "To better comprehend which states have the highest number of cases, I will split the \"cases-confirmed\" and \"cases-reported-total\" columns into separate tables. By arranging the data in ascending order, I can easily identify the states with the most cases. \n",
    "- Total Confirmed Cases in Brazil"
   ]
  },
  {
   "cell_type": "code",
   "execution_count": 120,
   "id": "5395010c-f5aa-46c7-8a7e-d8c854a4eb97",
   "metadata": {},
   "outputs": [],
   "source": [
    "bra_sorted_con = bra.sort_values(by='cases_confirmed', ascending=False)"
   ]
  },
  {
   "cell_type": "code",
   "execution_count": 121,
   "id": "dc7a0643-af77-4457-845d-819ef74cb4c3",
   "metadata": {},
   "outputs": [],
   "source": [
    "bra_sorted_con = bra_sorted_con.drop(['cases_reported_total'], axis=1)\n",
    "bra_sorted_con = bra_sorted_con[bra_sorted_con['cases_confirmed'] != 0]"
   ]
  },
  {
   "cell_type": "code",
   "execution_count": 122,
   "id": "868815d7-1bd0-47eb-be91-60a209530de6",
   "metadata": {},
   "outputs": [
    {
     "data": {
      "text/html": [
       "<div>\n",
       "<style scoped>\n",
       "    .dataframe tbody tr th:only-of-type {\n",
       "        vertical-align: middle;\n",
       "    }\n",
       "\n",
       "    .dataframe tbody tr th {\n",
       "        vertical-align: top;\n",
       "    }\n",
       "\n",
       "    .dataframe thead th {\n",
       "        text-align: right;\n",
       "    }\n",
       "</style>\n",
       "<table border=\"1\" class=\"dataframe\">\n",
       "  <thead>\n",
       "    <tr style=\"text-align: right;\">\n",
       "      <th></th>\n",
       "      <th>state</th>\n",
       "      <th>cases_confirmed</th>\n",
       "    </tr>\n",
       "  </thead>\n",
       "  <tbody>\n",
       "    <tr>\n",
       "      <th>5</th>\n",
       "      <td>Pernambuco</td>\n",
       "      <td>138</td>\n",
       "    </tr>\n",
       "    <tr>\n",
       "      <th>7</th>\n",
       "      <td>Rio Grande do Norte</td>\n",
       "      <td>60</td>\n",
       "    </tr>\n",
       "    <tr>\n",
       "      <th>1</th>\n",
       "      <td>Bahia</td>\n",
       "      <td>35</td>\n",
       "    </tr>\n",
       "    <tr>\n",
       "      <th>4</th>\n",
       "      <td>Paraíba</td>\n",
       "      <td>31</td>\n",
       "    </tr>\n",
       "    <tr>\n",
       "      <th>2</th>\n",
       "      <td>Ceará</td>\n",
       "      <td>4</td>\n",
       "    </tr>\n",
       "    <tr>\n",
       "      <th>26</th>\n",
       "      <td>Rio Grande do Sul</td>\n",
       "      <td>1</td>\n",
       "    </tr>\n",
       "    <tr>\n",
       "      <th>10</th>\n",
       "      <td>Minas Gerais</td>\n",
       "      <td>1</td>\n",
       "    </tr>\n",
       "  </tbody>\n",
       "</table>\n",
       "</div>"
      ],
      "text/plain": [
       "                  state  cases_confirmed\n",
       "5            Pernambuco              138\n",
       "7   Rio Grande do Norte               60\n",
       "1                 Bahia               35\n",
       "4               Paraíba               31\n",
       "2                 Ceará                4\n",
       "26    Rio Grande do Sul                1\n",
       "10         Minas Gerais                1"
      ]
     },
     "execution_count": 122,
     "metadata": {},
     "output_type": "execute_result"
    }
   ],
   "source": [
    "bra_sorted_con"
   ]
  },
  {
   "cell_type": "markdown",
   "id": "8b57a58d-0316-4182-b487-86a2a94bb422",
   "metadata": {},
   "source": [
    "Here you can see the confirmed zika virus cases in brazil in different states."
   ]
  },
  {
   "cell_type": "code",
   "execution_count": 123,
   "id": "b75230f3-6f18-4789-aca2-71e6d4542c5e",
   "metadata": {},
   "outputs": [
    {
     "data": {
      "text/plain": [
       "270"
      ]
     },
     "execution_count": 123,
     "metadata": {},
     "output_type": "execute_result"
    }
   ],
   "source": [
    "bra_sorted_con_sum = bra_sorted_con['cases_confirmed'].sum()\n",
    "bra_sorted_con_sum"
   ]
  },
  {
   "cell_type": "markdown",
   "id": "7c3853d2-de27-4688-8cfe-01ae229afe0e",
   "metadata": {},
   "source": [
    "Now the total confirmed case in brazil is 270."
   ]
  },
  {
   "cell_type": "markdown",
   "id": "64a3a8e7-ced1-480f-b83b-0ef87452905d",
   "metadata": {},
   "source": [
    "- Total Reported Cases in Brazil"
   ]
  },
  {
   "cell_type": "code",
   "execution_count": 124,
   "id": "b56869c1-9135-4b5a-8003-09dfcb28c72a",
   "metadata": {},
   "outputs": [],
   "source": [
    "bra_sorted_rep = bra.sort_values(by='cases_reported_total', ascending=False)\n",
    "bra_sorted_rep = bra_sorted_rep.drop(['cases_confirmed'], axis=1)"
   ]
  },
  {
   "cell_type": "code",
   "execution_count": 125,
   "id": "75dd3fa3-f298-4617-a24d-ba03f41bff1e",
   "metadata": {},
   "outputs": [
    {
     "data": {
      "text/html": [
       "<div>\n",
       "<style scoped>\n",
       "    .dataframe tbody tr th:only-of-type {\n",
       "        vertical-align: middle;\n",
       "    }\n",
       "\n",
       "    .dataframe tbody tr th {\n",
       "        vertical-align: top;\n",
       "    }\n",
       "\n",
       "    .dataframe thead th {\n",
       "        text-align: right;\n",
       "    }\n",
       "</style>\n",
       "<table border=\"1\" class=\"dataframe\">\n",
       "  <thead>\n",
       "    <tr style=\"text-align: right;\">\n",
       "      <th></th>\n",
       "      <th>state</th>\n",
       "      <th>cases_reported_total</th>\n",
       "    </tr>\n",
       "  </thead>\n",
       "  <tbody>\n",
       "    <tr>\n",
       "      <th>5</th>\n",
       "      <td>Pernambuco</td>\n",
       "      <td>1373</td>\n",
       "    </tr>\n",
       "    <tr>\n",
       "      <th>4</th>\n",
       "      <td>Paraíba</td>\n",
       "      <td>709</td>\n",
       "    </tr>\n",
       "    <tr>\n",
       "      <th>1</th>\n",
       "      <td>Bahia</td>\n",
       "      <td>533</td>\n",
       "    </tr>\n",
       "    <tr>\n",
       "      <th>2</th>\n",
       "      <td>Ceará</td>\n",
       "      <td>229</td>\n",
       "    </tr>\n",
       "    <tr>\n",
       "      <th>7</th>\n",
       "      <td>Rio Grande do Norte</td>\n",
       "      <td>208</td>\n",
       "    </tr>\n",
       "    <tr>\n",
       "      <th>8</th>\n",
       "      <td>Sergipe</td>\n",
       "      <td>172</td>\n",
       "    </tr>\n",
       "    <tr>\n",
       "      <th>0</th>\n",
       "      <td>Alagoas</td>\n",
       "      <td>158</td>\n",
       "    </tr>\n",
       "    <tr>\n",
       "      <th>22</th>\n",
       "      <td>Mato Grosso</td>\n",
       "      <td>147</td>\n",
       "    </tr>\n",
       "    <tr>\n",
       "      <th>3</th>\n",
       "      <td>Maranhão</td>\n",
       "      <td>134</td>\n",
       "    </tr>\n",
       "    <tr>\n",
       "      <th>11</th>\n",
       "      <td>Rio de Janeiro</td>\n",
       "      <td>122</td>\n",
       "    </tr>\n",
       "    <tr>\n",
       "      <th>6</th>\n",
       "      <td>Piauí</td>\n",
       "      <td>91</td>\n",
       "    </tr>\n",
       "    <tr>\n",
       "      <th>19</th>\n",
       "      <td>Tocantins</td>\n",
       "      <td>82</td>\n",
       "    </tr>\n",
       "    <tr>\n",
       "      <th>21</th>\n",
       "      <td>Goiás</td>\n",
       "      <td>62</td>\n",
       "    </tr>\n",
       "    <tr>\n",
       "      <th>9</th>\n",
       "      <td>Espírito Santo</td>\n",
       "      <td>52</td>\n",
       "    </tr>\n",
       "    <tr>\n",
       "      <th>10</th>\n",
       "      <td>Minas Gerais</td>\n",
       "      <td>48</td>\n",
       "    </tr>\n",
       "    <tr>\n",
       "      <th>12</th>\n",
       "      <td>São Paulo</td>\n",
       "      <td>18</td>\n",
       "    </tr>\n",
       "    <tr>\n",
       "      <th>20</th>\n",
       "      <td>Distrito Federal</td>\n",
       "      <td>14</td>\n",
       "    </tr>\n",
       "    <tr>\n",
       "      <th>24</th>\n",
       "      <td>Paraná</td>\n",
       "      <td>10</td>\n",
       "    </tr>\n",
       "    <tr>\n",
       "      <th>16</th>\n",
       "      <td>Pará</td>\n",
       "      <td>6</td>\n",
       "    </tr>\n",
       "    <tr>\n",
       "      <th>18</th>\n",
       "      <td>Roraima</td>\n",
       "      <td>5</td>\n",
       "    </tr>\n",
       "    <tr>\n",
       "      <th>23</th>\n",
       "      <td>Mato Grosso do Sul</td>\n",
       "      <td>4</td>\n",
       "    </tr>\n",
       "    <tr>\n",
       "      <th>17</th>\n",
       "      <td>Rondônia</td>\n",
       "      <td>1</td>\n",
       "    </tr>\n",
       "    <tr>\n",
       "      <th>25</th>\n",
       "      <td>Santa Catarina</td>\n",
       "      <td>1</td>\n",
       "    </tr>\n",
       "    <tr>\n",
       "      <th>26</th>\n",
       "      <td>Rio Grande do Sul</td>\n",
       "      <td>1</td>\n",
       "    </tr>\n",
       "  </tbody>\n",
       "</table>\n",
       "</div>"
      ],
      "text/plain": [
       "                  state  cases_reported_total\n",
       "5            Pernambuco                  1373\n",
       "4               Paraíba                   709\n",
       "1                 Bahia                   533\n",
       "2                 Ceará                   229\n",
       "7   Rio Grande do Norte                   208\n",
       "8               Sergipe                   172\n",
       "0               Alagoas                   158\n",
       "22          Mato Grosso                   147\n",
       "3              Maranhão                   134\n",
       "11       Rio de Janeiro                   122\n",
       "6                 Piauí                    91\n",
       "19            Tocantins                    82\n",
       "21                Goiás                    62\n",
       "9        Espírito Santo                    52\n",
       "10         Minas Gerais                    48\n",
       "12            São Paulo                    18\n",
       "20     Distrito Federal                    14\n",
       "24               Paraná                    10\n",
       "16                 Pará                     6\n",
       "18              Roraima                     5\n",
       "23   Mato Grosso do Sul                     4\n",
       "17             Rondônia                     1\n",
       "25       Santa Catarina                     1\n",
       "26    Rio Grande do Sul                     1"
      ]
     },
     "execution_count": 125,
     "metadata": {},
     "output_type": "execute_result"
    }
   ],
   "source": [
    "bra_sorted_rep"
   ]
  },
  {
   "cell_type": "markdown",
   "id": "488216bd-91c1-4f0b-b22e-f9d95e752ac3",
   "metadata": {},
   "source": [
    "Here you can see the reported zika virus cases in brazil in different states."
   ]
  },
  {
   "cell_type": "code",
   "execution_count": 126,
   "id": "95cec2af-5262-4aad-927c-0d2ad9047c41",
   "metadata": {},
   "outputs": [
    {
     "data": {
      "text/plain": [
       "4180"
      ]
     },
     "execution_count": 126,
     "metadata": {},
     "output_type": "execute_result"
    }
   ],
   "source": [
    "bra_sorted_rep_sum = bra_sorted_rep['cases_reported_total'].sum()\n",
    "bra_sorted_rep_sum"
   ]
  },
  {
   "cell_type": "markdown",
   "id": "903ab8e9-08c5-417c-ac36-32b6aa655306",
   "metadata": {},
   "source": [
    "Now the total reported case in brazil is 4180."
   ]
  },
  {
   "cell_type": "markdown",
   "id": "69a11ab4",
   "metadata": {
    "tags": []
   },
   "source": [
    "# 5) Summary"
   ]
  },
  {
   "cell_type": "markdown",
   "id": "94127cb2",
   "metadata": {},
   "source": [
    "## 5.1 Conclusion\n",
    "After thoroughly examining the Zika virus data, I have reached some important conclusions regarding its impact on the world and Brazil:\n",
    "\n",
    "Testing Discrepancy: It is notable that there is a significant difference between the total reported Zika virus cases (4,180) and the total confirmed cases (270) in Brazil. This suggests a potential issue with testing, as the positivity rate appears to be relatively low. Further investigation is necessary to understand and address this testing discrepancy, with the aim of improving the accuracy of case detection.\n",
    "\n",
    "Identification of Hotspot: Pernambuco has emerged as a prominent hotspot for Zika virus transmission in Brazil. It stands out with the highest number of reported and confirmed cases, indicating a higher risk of contracting the virus in this particular region. This highlights the importance of targeted interventions and dedicated public health efforts to effectively manage the situation in areas experiencing a higher incidence of infection.\n",
    "\n",
    "Efficiency in Testing: The state of Rio Grande do Norte exhibits a relatively higher positivity rate for confirmed cases, suggesting more efficient testing and diagnostic capabilities, particularly in urban regions. This underscores the significance of having robust testing facilities and sufficient resources in promptly identifying and confirming Zika virus cases.\n",
    "\n",
    "In conclusion, it is crucial to improve testing protocols, implement targeted interventions in high-risk areas, and allocate adequate resources to enhance testing capabilities across Brazil. By addressing these aspects, we can enhance the accuracy of case detection, effectively manage the spread of the Zika virus, and ensure timely care for those affected."
   ]
  },
  {
   "cell_type": "markdown",
   "id": "caa7d24b",
   "metadata": {},
   "source": [
    "## 5.2 Summary of data\n",
    "### 5.2.1 World\n",
    "In summary, the analysis reveals the following significant insights:\n",
    "\n",
    "- Category 1: There are 51 countries experiencing active virus transmission. This highlights the widespread nature of the virus and its impact on various regions.\n",
    "- Category 2: Notably, 16 countries have successfully interrupted virus transmission and significantly reduced infection rates. This underscores the effectiveness of control measures and interventions in combating the virus.\n",
    "- Category 3: Four countries have successfully eliminated the virus, showcasing the potential for complete eradication. However, it is worth noting that these countries are relatively small in size. This suggests that completely wiping out the virus can be a challenging endeavor, yet it instills a sense of hope and serves as a testament to the possibility of victory.\n",
    "\n",
    "These findings underscore the global efforts to control and combat the Zika virus. While challenges persist, the successes achieved in interrupting transmission and eliminating the virus in certain regions provide inspiration and encouragement to persevere in the fight against this infectious disease."
   ]
  },
  {
   "cell_type": "markdown",
   "id": "6f11b5d7-b4eb-49d1-b8f2-2f1924d39d42",
   "metadata": {},
   "source": [
    "### 5.2.2 Brazil\n",
    "\n",
    "After analyzing the Brazil dataset, several significant findings have come to light. The total reported Zika virus cases in Brazil amount to 4,180, while only 270 cases have been confirmed. This stark contrast indicates a potential issue with testing, as the positivity rate is relatively low. It raises concerns about the accuracy and effectiveness of the testing process.\n",
    "\n",
    "A closer examination of the \"confirmed\" and \"reported\" tables reveals that Pernambuco is the region most affected by the Zika virus, serving as a hotspot for its transmission in Brazil. The data also highlights that Rio Grande do Norte has a higher positivity rate for confirmed cases compared to other states. This could be attributed to better testing facilities and resources in urban areas, allowing for more accurate identification and confirmation of Zika virus cases.\n",
    "\n",
    "These findings emphasize the importance of swift and accurate testing to promptly diagnose Zika virus cases. By doing so, it enables timely care and interventions for patients, potentially saving lives. Improving testing capabilities across the country is crucial to effectively manage the spread of the virus and provide appropriate healthcare to those affected."
   ]
  },
  {
   "cell_type": "markdown",
   "id": "b98ee246",
   "metadata": {
    "tags": []
   },
   "source": [
    "# 6) Resources"
   ]
  },
  {
   "cell_type": "markdown",
   "id": "31f589ae",
   "metadata": {},
   "source": [
    "## 6.1 Resources\n",
    "\n",
    "#### Data\n"
   ]
  },
  {
   "cell_type": "markdown",
   "id": "fd8e4c9a-44ef-4d95-9877-126a7a47123a",
   "metadata": {},
   "source": [
    "https://github.com/BuzzFeedNews/zika-data"
   ]
  }
 ],
 "metadata": {
  "kernelspec": {
   "display_name": "Python 3 (ipykernel)",
   "language": "python",
   "name": "python3"
  },
  "language_info": {
   "codemirror_mode": {
    "name": "ipython",
    "version": 3
   },
   "file_extension": ".py",
   "mimetype": "text/x-python",
   "name": "python",
   "nbconvert_exporter": "python",
   "pygments_lexer": "ipython3",
   "version": "3.10.9"
  }
 },
 "nbformat": 4,
 "nbformat_minor": 5
}
